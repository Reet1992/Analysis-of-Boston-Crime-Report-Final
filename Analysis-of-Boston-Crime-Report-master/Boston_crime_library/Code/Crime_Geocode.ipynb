{
 "cells": [
  {
   "cell_type": "code",
   "execution_count": 1,
   "metadata": {},
   "outputs": [
    {
     "name": "stderr",
     "output_type": "stream",
     "text": [
      "/Users/Alex/.pyenv/versions/3.8.0/lib/python3.8/site-packages/pandas/compat/__init__.py:85: UserWarning: Could not import the lzma module. Your installed Python is incomplete. Attempting to use lzma compression will result in a RuntimeError.\n",
      "  warnings.warn(msg)\n",
      "/Users/Alex/.pyenv/versions/3.8.0/lib/python3.8/site-packages/pandas/compat/__init__.py:85: UserWarning: Could not import the lzma module. Your installed Python is incomplete. Attempting to use lzma compression will result in a RuntimeError.\n",
      "  warnings.warn(msg)\n"
     ]
    }
   ],
   "source": [
    "import censusgeocode as cg\n",
    "import pandas as pd\n",
    "import numpy as np\n",
    "import json\n",
    "import os\n",
    "import time\n",
    "\n",
    "\n"
   ]
  },
  {
   "cell_type": "code",
   "execution_count": 5,
   "metadata": {},
   "outputs": [],
   "source": [
    "os.chdir('/Users/Alex/Library/Mobile Documents/com~apple~CloudDocs/School/Fall 19/CPSC 6300 Applied Data Science/Project/Analysis-of-Boston-Crime-Report-master/Boston_crime_library')\n",
    "\n",
    "\n",
    "dat = pd.read_csv('DataSet/Boston_Crime_Data/Boston_Crime_Data.csv', engine = 'python')\n",
    "    \n",
    "#?pd.read_csv()"
   ]
  },
  {
   "cell_type": "code",
   "execution_count": 3,
   "metadata": {},
   "outputs": [
    {
     "data": {
      "text/plain": [
       "(296292, 12)"
      ]
     },
     "execution_count": 3,
     "metadata": {},
     "output_type": "execute_result"
    }
   ],
   "source": [
    "dat.shape"
   ]
  },
  {
   "cell_type": "markdown",
   "metadata": {},
   "source": [
    "Remove NA values from Longitude and Latitude, round both up to three decimal places, and merge them into into a single DataFrame.\n"
   ]
  },
  {
   "cell_type": "code",
   "execution_count": 6,
   "metadata": {},
   "outputs": [
    {
     "name": "stdout",
     "output_type": "stream",
     "text": [
      "(319073, 17)\n",
      "(298329, 17)\n"
     ]
    }
   ],
   "source": [
    "print(dat.shape)\n",
    "dat = dat.dropna(subset = ['Long', 'Lat'])\n",
    "\n",
    "dat.drop(dat.loc[dat['Lat']== -1].index, inplace=True)\n",
    "dat.drop(dat.loc[dat['Long']== -1].index, inplace=True)\n",
    "\n",
    "print(dat.shape)\n",
    "\n",
    "dat.reset_index(inplace = True)\n",
    "\n",
    "\n"
   ]
  },
  {
   "cell_type": "code",
   "execution_count": 7,
   "metadata": {},
   "outputs": [
    {
     "name": "stdout",
     "output_type": "stream",
     "text": [
      "Lat    42.2849\n",
      "Name: 42, dtype: object Long   -71.0714\n",
      "Name: 42, dtype: object\n"
     ]
    }
   ],
   "source": [
    "\n",
    "\n",
    "Lat = pd.to_numeric(dat.loc[:,'Lat'])\n",
    "Long = pd.to_numeric(dat.loc[:,'Long'])\n",
    "\n",
    "\n",
    "Lat = np.round(Lat, 3)\n",
    "Long = np.round(Long, 3)\n",
    "\n",
    "print(dat.loc[42,['Lat']], dat.loc[42,['Long']])\n"
   ]
  },
  {
   "cell_type": "code",
   "execution_count": 10,
   "metadata": {},
   "outputs": [
    {
     "name": "stdout",
     "output_type": "stream",
     "text": [
      "Before: (7757, 2), After: (7757, 2)\n",
      "When coordinates are rounded down to 3 places, we only have 7757 unique coordinates...\n"
     ]
    }
   ],
   "source": [
    "coord_dat = pd.concat([Long, Lat], axis = 1)\n",
    "before = coord_dat.shape\n",
    "coord_dat = coord_dat.drop_duplicates()\n",
    "after = coord_dat.shape\n",
    "print(f'Before: {before}, After: {after}')\n",
    "print(f'When coordinates are rounded down to 3 places, we only have {after[0]} unique coordinates...')\n",
    "Long = coord_dat.iloc[:,[0]]\n",
    "Lat = coord_dat.iloc[:,[1]]\n"
   ]
  },
  {
   "cell_type": "markdown",
   "metadata": {},
   "source": [
    "raise_wrapper allows the user to make repeated requests for tract info from the Census. Occaisionally, requests will return a ValueError  and terminate all further requests, despite the code being error free.\n",
    "Wrapping requests in a function allows make repeated requests with the same coordinates for up to num_retries times."
   ]
  },
  {
   "cell_type": "code",
   "execution_count": 11,
   "metadata": {},
   "outputs": [],
   "source": [
    "\n",
    "def raise_wrapper(num_retries, index):\n",
    "    for attempt_no in range(num_retries):\n",
    "        try:\n",
    "            #time.sleep(float(np.sqrt(np.random.randn(1)**2)))\n",
    "            return cg.coordinates(float(Long.iloc[index]), float(Lat.iloc[index]), returntype = 'georgraphies')['Census Tracts'][0]['TRACT']\n",
    "\n",
    "         \n",
    "        except ValueError:\n",
    "            print(f'ValueError @ item {i}!')\n",
    "            time.sleep(float(np.sqrt(np.random.randn(1)**2) + 5))\n",
    "            if attempt_no < (num_retries - 1):\n",
    "                print(f'err no {attempt_no}')\n",
    "            else:\n",
    "                raise error\n",
    " \n",
    "\n"
   ]
  },
  {
   "cell_type": "markdown",
   "metadata": {},
   "source": [
    "Requests are sent to the census, appended to a list, Census_Data, for as many unique requests there are (i.e. number of rows in Long and Lat). Note that this will take some time to complete. Once it is done, the results are stored as a JSON file, Crime_Location_Data.txt.\n",
    "\n",
    "Additionally, a csv is created in the code block below that contains these Tract IDs, as well as the longitude and latitudes use to make the requests. This data will be used to add a Tract column to the Boston Dataset, and then merge with the ACS Survey data."
   ]
  },
  {
   "cell_type": "code",
   "execution_count": 14,
   "metadata": {},
   "outputs": [
    {
     "name": "stdout",
     "output_type": "stream",
     "text": [
      "Report 0 geocoded.\n"
     ]
    }
   ],
   "source": [
    "Census_Data = []\n",
    "try:\n",
    "    for i in range(0,len((Lat))): \n",
    "        geocode = raise_wrapper(num_retries = 15,index = i)\n",
    "        if i % 100 == 0:\n",
    "            print(f'Report {i} geocoded.')\n",
    "#        print(f'Coordinates for row {i} geocoded.')\n",
    "        Census_Data.append(geocode)\n",
    "\n",
    "finally:\n",
    "    with open('Crime_Location_Data.txt', 'w') as CLD:\n",
    "        json.dump(Census_Data, CLD)    "
   ]
  },
  {
   "cell_type": "code",
   "execution_count": 15,
   "metadata": {},
   "outputs": [
    {
     "ename": "ValueError",
     "evalue": "all the input array dimensions for the concatenation axis must match exactly, but along dimension 0, the array at index 0 has size 3 and the array at index 1 has size 7757",
     "output_type": "error",
     "traceback": [
      "\u001b[0;31m---------------------------------------------------------------------------\u001b[0m",
      "\u001b[0;31mValueError\u001b[0m                                Traceback (most recent call last)",
      "\u001b[0;32m<ipython-input-15-481346a5e0b0>\u001b[0m in \u001b[0;36m<module>\u001b[0;34m\u001b[0m\n\u001b[1;32m      8\u001b[0m \u001b[0mLatitude\u001b[0m \u001b[0;34m=\u001b[0m \u001b[0mLatitude\u001b[0m\u001b[0;34m[\u001b[0m\u001b[0;34m...\u001b[0m\u001b[0;34m,\u001b[0m\u001b[0mnp\u001b[0m\u001b[0;34m.\u001b[0m\u001b[0mnewaxis\u001b[0m\u001b[0;34m]\u001b[0m\u001b[0;34m\u001b[0m\u001b[0;34m\u001b[0m\u001b[0m\n\u001b[1;32m      9\u001b[0m \u001b[0;34m\u001b[0m\u001b[0m\n\u001b[0;32m---> 10\u001b[0;31m \u001b[0mcoord_map\u001b[0m \u001b[0;34m=\u001b[0m \u001b[0mnp\u001b[0m\u001b[0;34m.\u001b[0m\u001b[0mhstack\u001b[0m\u001b[0;34m(\u001b[0m\u001b[0;34m[\u001b[0m\u001b[0mcensus_tracts\u001b[0m\u001b[0;34m,\u001b[0m \u001b[0mLongitude\u001b[0m\u001b[0;34m,\u001b[0m \u001b[0mLatitude\u001b[0m\u001b[0;34m]\u001b[0m\u001b[0;34m)\u001b[0m\u001b[0;34m\u001b[0m\u001b[0;34m\u001b[0m\u001b[0m\n\u001b[0m\u001b[1;32m     11\u001b[0m \u001b[0;34m\u001b[0m\u001b[0m\n\u001b[1;32m     12\u001b[0m \u001b[0mcensus_tracts\u001b[0m \u001b[0;34m=\u001b[0m \u001b[0mpd\u001b[0m\u001b[0;34m.\u001b[0m\u001b[0mSeries\u001b[0m\u001b[0;34m(\u001b[0m\u001b[0mcoord_map\u001b[0m\u001b[0;34m[\u001b[0m\u001b[0;34m:\u001b[0m\u001b[0;34m,\u001b[0m\u001b[0;36m0\u001b[0m\u001b[0;34m]\u001b[0m\u001b[0;34m)\u001b[0m\u001b[0;34m\u001b[0m\u001b[0;34m\u001b[0m\u001b[0m\n",
      "\u001b[0;32m<__array_function__ internals>\u001b[0m in \u001b[0;36mhstack\u001b[0;34m(*args, **kwargs)\u001b[0m\n",
      "\u001b[0;32m~/.pyenv/versions/3.8.0/lib/python3.8/site-packages/numpy/core/shape_base.py\u001b[0m in \u001b[0;36mhstack\u001b[0;34m(tup)\u001b[0m\n\u001b[1;32m    342\u001b[0m         \u001b[0;32mreturn\u001b[0m \u001b[0m_nx\u001b[0m\u001b[0;34m.\u001b[0m\u001b[0mconcatenate\u001b[0m\u001b[0;34m(\u001b[0m\u001b[0marrs\u001b[0m\u001b[0;34m,\u001b[0m \u001b[0;36m0\u001b[0m\u001b[0;34m)\u001b[0m\u001b[0;34m\u001b[0m\u001b[0;34m\u001b[0m\u001b[0m\n\u001b[1;32m    343\u001b[0m     \u001b[0;32melse\u001b[0m\u001b[0;34m:\u001b[0m\u001b[0;34m\u001b[0m\u001b[0;34m\u001b[0m\u001b[0m\n\u001b[0;32m--> 344\u001b[0;31m         \u001b[0;32mreturn\u001b[0m \u001b[0m_nx\u001b[0m\u001b[0;34m.\u001b[0m\u001b[0mconcatenate\u001b[0m\u001b[0;34m(\u001b[0m\u001b[0marrs\u001b[0m\u001b[0;34m,\u001b[0m \u001b[0;36m1\u001b[0m\u001b[0;34m)\u001b[0m\u001b[0;34m\u001b[0m\u001b[0;34m\u001b[0m\u001b[0m\n\u001b[0m\u001b[1;32m    345\u001b[0m \u001b[0;34m\u001b[0m\u001b[0m\n\u001b[1;32m    346\u001b[0m \u001b[0;34m\u001b[0m\u001b[0m\n",
      "\u001b[0;32m<__array_function__ internals>\u001b[0m in \u001b[0;36mconcatenate\u001b[0;34m(*args, **kwargs)\u001b[0m\n",
      "\u001b[0;31mValueError\u001b[0m: all the input array dimensions for the concatenation axis must match exactly, but along dimension 0, the array at index 0 has size 3 and the array at index 1 has size 7757"
     ]
    }
   ],
   "source": [
    "\n",
    "census_tracts = np.array(Census_Data)\n",
    "census_tracts = census_tracts[...,np.newaxis]\n",
    "\n",
    "Longitude = Long.T.squeeze().to_numpy()\n",
    "Longitude = Longitude[...,np.newaxis]\n",
    "\n",
    "Latitude = Lat.T.squeeze().to_numpy()\n",
    "Latitude = Latitude[...,np.newaxis]\n",
    "\n",
    "coord_map = np.hstack([census_tracts, Longitude, Latitude])\n",
    "\n",
    "census_tracts = pd.Series(coord_map[:,0])\n",
    "Longitude = pd.Series(coord_map[:,1])\n",
    "Latitude = pd.Series(coord_map[:,2])\n",
    "\n",
    "coord_map = pd.concat([census_tracts, Longitude, Latitude], axis = 1)\n",
    "#print(coord_map.shape, type(coord_map))\n",
    "\n",
    "coord_map.rename(columns = {0:'Census_Tract', 1:'Longitude', 2:'Latitude'}, inplace = True)\n",
    "coord_map.head()\n",
    "\n",
    "coord_map.to_csv('DataSet/Boston_Crime_Data/Tracts_Coords_For_Merge.csv')"
   ]
  },
  {
   "cell_type": "code",
   "execution_count": null,
   "metadata": {},
   "outputs": [],
   "source": []
  }
 ],
 "metadata": {
  "kernelspec": {
   "display_name": "Python 3",
   "language": "python",
   "name": "python3"
  },
  "language_info": {
   "codemirror_mode": {
    "name": "ipython",
    "version": 3
   },
   "file_extension": ".py",
   "mimetype": "text/x-python",
   "name": "python",
   "nbconvert_exporter": "python",
   "pygments_lexer": "ipython3",
   "version": "3.8.0"
  }
 },
 "nbformat": 4,
 "nbformat_minor": 2
}
